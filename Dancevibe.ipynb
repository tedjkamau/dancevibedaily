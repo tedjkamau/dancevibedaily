{
 "cells": [
  {
   "cell_type": "markdown",
   "metadata": {},
   "source": [
    "# Import Libraries\n"
   ]
  },
  {
   "cell_type": "code",
   "execution_count": 1,
   "metadata": {},
   "outputs": [],
   "source": [
    "import pandas as pd\n",
    "import numpy as np \n",
    "import seaborn as sns\n",
    "import matplotlib.pyplot as plt\n",
    "import moviepy.editor as mpy\n",
    "import requests\n",
    "import os\n",
    "import gdown\n",
    "import sys\n",
    "import pygame\n",
    "import tempfile\n",
    "from pydub import AudioSegment"
   ]
  },
  {
   "cell_type": "markdown",
   "metadata": {},
   "source": [
    "# Media Files"
   ]
  },
  {
   "cell_type": "markdown",
   "metadata": {},
   "source": [
    "    A. Issues when loading the video: \n",
    "\n",
    "                1. When previewing the video it has a mixer issue. \n",
    "                2. Where do we store the temporary files"
   ]
  },
  {
   "cell_type": "code",
   "execution_count": 26,
   "metadata": {},
   "outputs": [
    {
     "name": "stdout",
     "output_type": "stream",
     "text": [
      "Moviepy - Building video C:/Users/tedjo/Downloads/dancevibedaily/media/FQIoAkMzLBdARrdsi0OVgRgSZGFzaF9iYXNlbGluZV8xX3YxEQB1AAA_17945691209537559.mp4.\n",
      "MoviePy - Writing audio in FQIoAkMzLBdARrdsi0OVgRgSZGFzaF9iYXNlbGluZV8xX3YxEQB1AAA_17945691209537559TEMP_MPY_wvf_snd.mp3\n"
     ]
    },
    {
     "name": "stderr",
     "output_type": "stream",
     "text": [
      "                                                                      \r"
     ]
    },
    {
     "name": "stdout",
     "output_type": "stream",
     "text": [
      "MoviePy - Done.\n",
      "Moviepy - Writing video C:/Users/tedjo/Downloads/dancevibedaily/media/FQIoAkMzLBdARrdsi0OVgRgSZGFzaF9iYXNlbGluZV8xX3YxEQB1AAA_17945691209537559.mp4\n",
      "\n"
     ]
    },
    {
     "name": "stderr",
     "output_type": "stream",
     "text": [
      "                                                                 \r"
     ]
    },
    {
     "name": "stdout",
     "output_type": "stream",
     "text": [
      "Moviepy - Done !\n",
      "Moviepy - video ready C:/Users/tedjo/Downloads/dancevibedaily/media/FQIoAkMzLBdARrdsi0OVgRgSZGFzaF9iYXNlbGluZV8xX3YxEQB1AAA_17945691209537559.mp4\n"
     ]
    },
    {
     "name": "stderr",
     "output_type": "stream",
     "text": [
      "Exception in thread Thread-190 (preview):\n",
      "Traceback (most recent call last):\n",
      "  File \"c:\\Users\\tedjo\\anaconda3\\Lib\\threading.py\", line 1045, in _bootstrap_inner\n",
      "    self.run()\n",
      "  File \"c:\\Users\\tedjo\\anaconda3\\Lib\\threading.py\", line 982, in run\n",
      "    self._target(*self._args, **self._kwargs)\n",
      "  File \"<decorator-gen-118>\", line 2, in preview\n",
      "  File \"c:\\Users\\tedjo\\anaconda3\\Lib\\site-packages\\moviepy\\decorators.py\", line 54, in requires_duration\n",
      "    return f(clip, *a, **k)\n",
      "           ^^^^^^^^^^^^^^^^\n",
      "  File \"c:\\Users\\tedjo\\anaconda3\\Lib\\site-packages\\moviepy\\audio\\io\\preview.py\", line 50, in preview\n",
      "    chunk = pg.sndarray.make_sound(sndarray)\n",
      "            ^^^^^^^^^^^^^^^^^^^^^^^^^^^^^^^^\n",
      "  File \"c:\\Users\\tedjo\\anaconda3\\Lib\\site-packages\\pygame\\sndarray.py\", line 92, in make_sound\n",
      "    return mixer.Sound(array=array)\n",
      "           ^^^^^^^^^^^^^^^^^^^^^^^^\n",
      "ValueError: Array depth must match number of mixer channels\n"
     ]
    }
   ],
   "source": [
    "video = mpy.VideoFileClip(\"C:/Users/tedjo/Downloads/dancevibedaily/media/FQIoAkMzLBdARrdsi0OVgRgSZGFzaF9iYXNlbGluZV8xX3YxEQB1AAA_17945691209537559.mp4\")\n"
   ]
  },
  {
   "cell_type": "code",
   "execution_count": 4,
   "metadata": {},
   "outputs": [
    {
     "name": "stdout",
     "output_type": "stream",
     "text": [
      "C has been processed\n",
      ": has been processed\n",
      "/ has been processed\n",
      "U has been processed\n",
      "s has been processed\n",
      "e has been processed\n",
      "r has been processed\n",
      "s has been processed\n",
      "/ has been processed\n",
      "t has been processed\n",
      "e has been processed\n",
      "d has been processed\n",
      "j has been processed\n",
      "o has been processed\n",
      "/ has been processed\n",
      "D has been processed\n",
      "o has been processed\n",
      "w has been processed\n",
      "n has been processed\n",
      "l has been processed\n",
      "o has been processed\n",
      "a has been processed\n",
      "d has been processed\n",
      "s has been processed\n",
      "/ has been processed\n",
      "d has been processed\n",
      "a has been processed\n",
      "n has been processed\n",
      "c has been processed\n",
      "e has been processed\n",
      "v has been processed\n",
      "i has been processed\n",
      "b has been processed\n",
      "e has been processed\n",
      "d has been processed\n",
      "a has been processed\n",
      "i has been processed\n",
      "l has been processed\n",
      "y has been processed\n",
      "/ has been processed\n",
      "m has been processed\n",
      "e has been processed\n",
      "d has been processed\n",
      "i has been processed\n",
      "a has been processed\n",
      "/ has been processed\n"
     ]
    }
   ],
   "source": [
    "file_path = \"C:/Users/tedjo/Downloads/dancevibedaily/media/\"\n",
    "#Loop through the files in the directory \n",
    "for files in file_path:\n",
    "    if files.endswith(\".mp4\"):\n",
    "        video = mpy.VideoFileClip(files)\n",
    "        audio = video.audio\n",
    "        \n",
    "    print(f'{files} has been processed')\n"
   ]
  },
  {
   "cell_type": "markdown",
   "metadata": {},
   "source": [
    "# DataFrames"
   ]
  },
  {
   "cell_type": "markdown",
   "metadata": {},
   "source": [
    "# Data Cleaning"
   ]
  }
 ],
 "metadata": {
  "kernelspec": {
   "display_name": "Python 3",
   "language": "python",
   "name": "python3"
  },
  "language_info": {
   "codemirror_mode": {
    "name": "ipython",
    "version": 3
   },
   "file_extension": ".py",
   "mimetype": "text/x-python",
   "name": "python",
   "nbconvert_exporter": "python",
   "pygments_lexer": "ipython3",
   "version": "3.11.7"
  }
 },
 "nbformat": 4,
 "nbformat_minor": 2
}
